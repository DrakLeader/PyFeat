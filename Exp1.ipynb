{
 "cells": [
  {
   "cell_type": "code",
   "execution_count": 7,
   "metadata": {},
   "outputs": [],
   "source": [
    "import os\n",
    "import sys\n",
    "import subprocess\n",
    "import time"
   ]
  },
  {
   "cell_type": "markdown",
   "metadata": {},
   "source": [
    "## 2.1.1 Z-Curve\n",
    "\n",
    "```powershell\n",
    "python Codes/main.py -fa='Datasets/DNA/demoFASTA.txt' -la='Datasets/DNA/demoLabel.txt' -full=1 -optimum=1 -zcurve=1\n",
    "```\n"
   ]
  },
  {
   "cell_type": "markdown",
   "metadata": {},
   "source": [
    "## 2.1.2 gcContent计算\n",
    "\n",
    "```powershell\n",
    "python Codes/main.py -fa='Datasets/DNA/demoFASTA.txt' -la='Datasets/DNA/demoLabel.txt' -full=1 -optimum=1 -gc=1\n",
    "```"
   ]
  },
  {
   "cell_type": "markdown",
   "metadata": {},
   "source": [
    "## 2.1.3 atgcRatio计算\n",
    "\n",
    "```powershell\n",
    "python Codes/main.py -fa='Datasets/DNA/demoFASTA.txt' -la='Datasets/DNA/demoLabel.txt' -full=1 -optimum=1 -atgc=1\n",
    "```"
   ]
  },
  {
   "cell_type": "markdown",
   "metadata": {},
   "source": [
    "## 作业2\n",
    "\n",
    "### 特征构建\n",
    "\n",
    "```powershell\n",
    "python Codes\\main.py --sequenceType=protein --fullDataset=1 --optimumDataset=1 --fasta='Datasets\\Exp1\\fasta.txt' --label='Datasets\\Exp1\\label.txt' --monoMono=1 --monoDi=1 --monoTri=1 --diMono=1 --diDi=1 --diTri=1 --triMono=1 --triDi=1\n",
    "\n",
    "```\n",
    "\n",
    "\n",
    "### Evaluation\n",
    "\n",
    "```powershell\n",
    "python run \"E:\\Source\\PyFeat\\Codes\\runClassifiers.py\" --nFCV=10 --dataset=optimumDataset.csv --auROC=1 --boxPlot=1\n",
    "```\n",
    "\n"
   ]
  }
 ],
 "metadata": {
  "kernelspec": {
   "display_name": "D-Mining",
   "language": "python",
   "name": "python3"
  },
  "language_info": {
   "codemirror_mode": {
    "name": "ipython",
    "version": 3
   },
   "file_extension": ".py",
   "mimetype": "text/x-python",
   "name": "python",
   "nbconvert_exporter": "python",
   "pygments_lexer": "ipython3",
   "version": "3.9.19"
  }
 },
 "nbformat": 4,
 "nbformat_minor": 2
}
